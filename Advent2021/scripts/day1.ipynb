{
 "cells": [
  {
   "cell_type": "code",
   "execution_count": 27,
   "metadata": {},
   "outputs": [
    {
     "name": "stdout",
     "output_type": "stream",
     "text": [
      "/Users/isaacsantelli/personal_work/AdventOfCode\n",
      "~/personal_work/AdventofCode/\n"
     ]
    }
   ],
   "source": [
    "import os\n",
    "print(os.getcwd())\n",
    "os.chdir(\"/Users/isaacsantelli/personal_work/AdventOfCode\")\n",
    "from local import advent_path\n",
    "print(advent_path)"
   ]
  },
  {
   "cell_type": "code",
   "execution_count": 38,
   "metadata": {},
   "outputs": [],
   "source": [
    "with open(f\"Advent2021/inputs/input1_1.txt\") as f:\n",
    "    lines = f.readlines()\n",
    "num_list = []\n",
    "for line in lines:  \n",
    "    res = [int(i) for i in line.split() if i.isdigit()][0]\n",
    "    num_list.append(res)\n"
   ]
  },
  {
   "cell_type": "code",
   "execution_count": 39,
   "metadata": {},
   "outputs": [
    {
     "name": "stdout",
     "output_type": "stream",
     "text": [
      "1502\n"
     ]
    }
   ],
   "source": [
    "increases = 0\n",
    "curr = num_list[0]\n",
    "for num in num_list:\n",
    "    if num > curr:\n",
    "        increases+= 1\n",
    "    curr = num\n",
    "print(increases)"
   ]
  },
  {
   "cell_type": "code",
   "execution_count": 59,
   "metadata": {},
   "outputs": [
    {
     "name": "stdout",
     "output_type": "stream",
     "text": [
      "1538\n"
     ]
    }
   ],
   "source": [
    "curr = sum(num_list[0:3])\n",
    "increases = 0\n",
    "for i, p in enumerate(num_list):\n",
    "    tot = sum(num_list[i:i+3])\n",
    "    if tot > curr:\n",
    "        increases += 1\n",
    "    curr = tot\n",
    "print(increases)"
   ]
  }
 ],
 "metadata": {
  "kernelspec": {
   "display_name": "Python 3",
   "language": "python",
   "name": "python3"
  },
  "language_info": {
   "codemirror_mode": {
    "name": "ipython",
    "version": 3
   },
   "file_extension": ".py",
   "mimetype": "text/x-python",
   "name": "python",
   "nbconvert_exporter": "python",
   "pygments_lexer": "ipython3",
   "version": "3.7.5"
  }
 },
 "nbformat": 4,
 "nbformat_minor": 4
}
