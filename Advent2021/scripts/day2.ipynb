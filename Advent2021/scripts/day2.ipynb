{
 "cells": [
  {
   "cell_type": "code",
   "execution_count": 1,
   "metadata": {},
   "outputs": [
    {
     "name": "stdout",
     "output_type": "stream",
     "text": [
      "/Users/isaacsantelli/personal_work/AdventOfCode/Advent2021/scripts\n"
     ]
    }
   ],
   "source": [
    "import os\n",
    "print(os.getcwd())\n",
    "os.chdir(\"/Users/isaacsantelli/personal_work/AdventOfCode\")\n",
    "from local import advent_path"
   ]
  },
  {
   "cell_type": "code",
   "execution_count": 30,
   "metadata": {},
   "outputs": [
    {
     "name": "stdout",
     "output_type": "stream",
     "text": [
      "[('forward', 4), ('forward', 6), ('down', 8), ('forward', 3), ('forward', 9), ('down', 7), ('down', 7), ('down', 1), ('forward', 1), ('forward', 5), ('up', 4), ('forward', 3), ('forward', 9), ('forward', 5), ('down', 8), ('forward', 6), ('forward', 8), ('up', 4), ('forward', 1), ('forward', 4), ('up', 3), ('down', 2), ('down', 2), ('up', 8), ('forward', 9), ('down', 5), ('down', 6), ('down', 4), ('forward', 1), ('forward', 7), ('down', 1), ('forward', 2), ('down', 7), ('down', 6), ('forward', 3), ('forward', 1), ('down', 7), ('forward', 3), ('up', 7), ('up', 1), ('forward', 6), ('down', 8), ('down', 4), ('down', 1), ('down', 7), ('forward', 9), ('down', 2), ('forward', 9), ('up', 4), ('down', 7), ('forward', 9), ('forward', 9), ('up', 4), ('up', 7), ('up', 2), ('forward', 1), ('down', 9), ('forward', 2), ('forward', 8), ('forward', 5), ('down', 9), ('forward', 5), ('up', 1), ('forward', 8), ('down', 6), ('down', 1), ('down', 1), ('down', 8), ('down', 6), ('down', 4), ('down', 6), ('forward', 7), ('forward', 5), ('forward', 4), ('up', 8), ('up', 4), ('forward', 6), ('forward', 9), ('forward', 6), ('down', 2), ('up', 8), ('forward', 3), ('forward', 8), ('down', 5), ('forward', 1), ('down', 6), ('down', 7), ('up', 4), ('down', 8), ('forward', 6), ('up', 4), ('forward', 7), ('down', 8), ('down', 8), ('down', 2), ('down', 8), ('up', 7), ('forward', 7), ('forward', 6), ('down', 2), ('forward', 9), ('down', 7), ('down', 4), ('forward', 1), ('up', 9), ('down', 6), ('up', 7), ('down', 6), ('down', 2), ('down', 2), ('forward', 3), ('down', 8), ('forward', 4), ('down', 7), ('down', 2), ('up', 8), ('down', 6), ('forward', 2), ('forward', 2), ('down', 6), ('up', 6), ('down', 7), ('up', 5), ('up', 4), ('up', 9), ('forward', 9), ('forward', 7), ('down', 4), ('down', 4), ('up', 5), ('down', 2), ('forward', 3), ('down', 9), ('down', 5), ('forward', 8), ('up', 3), ('forward', 7), ('forward', 9), ('down', 3), ('forward', 1), ('up', 1), ('forward', 5), ('down', 8), ('down', 2), ('forward', 3), ('down', 6), ('down', 8), ('up', 9), ('down', 9), ('forward', 4), ('up', 5), ('forward', 8), ('forward', 7), ('forward', 7), ('down', 3), ('down', 5), ('forward', 8), ('down', 1), ('down', 2), ('forward', 2), ('up', 9), ('down', 3), ('down', 9), ('forward', 2), ('down', 4), ('up', 9), ('up', 3), ('down', 1), ('down', 1), ('forward', 6), ('down', 5), ('down', 9), ('forward', 2), ('up', 5), ('forward', 3), ('down', 1), ('down', 7), ('forward', 1), ('forward', 1), ('down', 7), ('up', 3), ('up', 1), ('up', 6), ('forward', 9), ('up', 1), ('down', 8), ('down', 5), ('up', 6), ('up', 2), ('down', 8), ('forward', 3), ('forward', 1), ('down', 7), ('up', 1), ('down', 9), ('down', 9), ('up', 8), ('forward', 4), ('up', 8), ('forward', 8), ('down', 5), ('forward', 5), ('forward', 2), ('forward', 1), ('forward', 5), ('down', 8), ('forward', 6), ('forward', 8), ('down', 5), ('forward', 8), ('up', 1), ('up', 9), ('up', 7), ('down', 5), ('down', 9), ('up', 4), ('down', 7), ('up', 8), ('up', 3), ('forward', 6), ('down', 9), ('forward', 4), ('down', 4), ('forward', 2), ('forward', 3), ('down', 4), ('down', 5), ('down', 3), ('forward', 9), ('forward', 5), ('forward', 9), ('forward', 4), ('down', 5), ('down', 7), ('down', 5), ('forward', 8), ('up', 5), ('down', 2), ('forward', 3), ('forward', 4), ('down', 5), ('up', 8), ('forward', 5), ('down', 2), ('up', 4), ('down', 5), ('down', 2), ('forward', 1), ('up', 3), ('down', 6), ('down', 8), ('down', 3), ('forward', 1), ('up', 5), ('forward', 1), ('down', 3), ('forward', 4), ('down', 6), ('forward', 8), ('forward', 4), ('forward', 1), ('down', 8), ('down', 2), ('forward', 8), ('down', 5), ('forward', 2), ('forward', 2), ('down', 9), ('forward', 1), ('forward', 8), ('up', 1), ('forward', 1), ('down', 1), ('down', 7), ('down', 4), ('up', 4), ('down', 3), ('forward', 1), ('forward', 9), ('down', 9), ('up', 6), ('up', 8), ('down', 2), ('down', 2), ('down', 3), ('forward', 2), ('forward', 9), ('down', 1), ('up', 9), ('down', 3), ('down', 9), ('down', 1), ('down', 7), ('forward', 9), ('forward', 7), ('down', 5), ('down', 2), ('down', 9), ('down', 2), ('down', 7), ('up', 7), ('down', 2), ('up', 3), ('up', 5), ('forward', 8), ('up', 7), ('forward', 1), ('down', 9), ('down', 9), ('down', 1), ('forward', 6), ('down', 7), ('up', 4), ('up', 4), ('down', 9), ('up', 5), ('up', 8), ('down', 3), ('down', 5), ('forward', 6), ('up', 3), ('down', 8), ('down', 5), ('forward', 9), ('up', 6), ('forward', 9), ('forward', 5), ('up', 6), ('up', 9), ('down', 2), ('up', 5), ('forward', 9), ('down', 1), ('up', 1), ('down', 9), ('forward', 4), ('forward', 4), ('forward', 8), ('down', 5), ('down', 3), ('down', 7), ('forward', 5), ('down', 6), ('forward', 3), ('down', 5), ('down', 5), ('up', 5), ('forward', 8), ('forward', 1), ('forward', 2), ('forward', 6), ('up', 1), ('down', 5), ('down', 4), ('up', 5), ('forward', 3), ('forward', 2), ('forward', 2), ('forward', 2), ('forward', 7), ('forward', 8), ('down', 2), ('up', 8), ('forward', 4), ('down', 4), ('forward', 7), ('down', 6), ('down', 7), ('forward', 5), ('down', 5), ('forward', 1), ('down', 8), ('forward', 6), ('down', 1), ('forward', 3), ('up', 3), ('down', 7), ('down', 2), ('up', 4), ('down', 3), ('up', 2), ('up', 8), ('down', 2), ('forward', 5), ('forward', 3), ('down', 9), ('down', 9), ('up', 2), ('forward', 6), ('forward', 9), ('down', 1), ('forward', 6), ('down', 4), ('up', 2), ('down', 7), ('down', 3), ('down', 3), ('forward', 2), ('down', 5), ('down', 9), ('down', 7), ('forward', 7), ('forward', 9), ('up', 8), ('down', 8), ('down', 3), ('up', 5), ('down', 9), ('forward', 8), ('forward', 8), ('down', 1), ('forward', 5), ('forward', 2), ('forward', 7), ('down', 9), ('down', 7), ('forward', 6), ('up', 9), ('forward', 3), ('forward', 5), ('up', 7), ('down', 9), ('forward', 9), ('forward', 4), ('forward', 5), ('forward', 9), ('forward', 8), ('forward', 1), ('forward', 2), ('forward', 8), ('down', 7), ('forward', 3), ('up', 2), ('up', 7), ('forward', 1), ('forward', 3), ('forward', 9), ('up', 3), ('down', 2), ('forward', 3), ('forward', 6), ('forward', 3), ('forward', 3), ('forward', 3), ('forward', 1), ('forward', 1), ('up', 5), ('down', 5), ('up', 5), ('down', 5), ('down', 5), ('forward', 8), ('forward', 1), ('down', 4), ('forward', 7), ('down', 6), ('down', 1), ('down', 2), ('down', 2), ('down', 6), ('up', 8), ('forward', 3), ('forward', 2), ('up', 8), ('up', 2), ('forward', 1), ('forward', 6), ('forward', 5), ('forward', 6), ('forward', 7), ('down', 8), ('forward', 1), ('down', 4), ('forward', 2), ('up', 4), ('forward', 4), ('down', 1), ('forward', 5), ('down', 7), ('forward', 7), ('up', 7), ('forward', 1), ('down', 2), ('forward', 8), ('forward', 5), ('up', 8), ('up', 8), ('up', 2), ('down', 9), ('forward', 2), ('down', 4), ('down', 3), ('down', 5), ('down', 5), ('down', 2), ('up', 5), ('forward', 6), ('up', 7), ('forward', 8), ('up', 7), ('down', 4), ('forward', 1), ('down', 3), ('forward', 2), ('forward', 1), ('down', 2), ('up', 7), ('forward', 5), ('up', 8), ('up', 1), ('down', 4), ('forward', 6), ('down', 4), ('up', 9), ('forward', 5), ('down', 2), ('down', 7), ('down', 7), ('forward', 4), ('forward', 4), ('forward', 9), ('down', 1), ('forward', 6), ('forward', 1), ('up', 9), ('forward', 4), ('forward', 4), ('forward', 8), ('forward', 3), ('forward', 4), ('down', 3), ('up', 5), ('up', 1), ('forward', 3), ('down', 6), ('down', 4), ('down', 2), ('forward', 3), ('forward', 8), ('up', 6), ('up', 3), ('forward', 8), ('down', 3), ('down', 6), ('forward', 1), ('up', 7), ('down', 4), ('down', 5), ('up', 7), ('forward', 3), ('up', 4), ('forward', 9), ('forward', 6), ('down', 3), ('forward', 4), ('down', 6), ('forward', 1), ('forward', 6), ('forward', 4), ('forward', 2), ('forward', 1), ('forward', 3), ('forward', 1), ('down', 1), ('down', 9), ('down', 5), ('down', 7), ('down', 4), ('down', 8), ('up', 1), ('down', 6), ('down', 1), ('forward', 4), ('down', 9), ('up', 9), ('down', 6), ('forward', 6), ('forward', 8), ('up', 7), ('forward', 4), ('down', 3), ('forward', 9), ('forward', 6), ('forward', 8), ('down', 1), ('up', 2), ('down', 2), ('down', 8), ('forward', 4), ('down', 9), ('down', 3), ('forward', 5), ('down', 9), ('down', 4), ('up', 5), ('down', 8), ('down', 4), ('down', 9), ('up', 4), ('down', 5), ('down', 7), ('down', 3), ('up', 1), ('up', 1), ('down', 4), ('down', 6), ('forward', 8), ('down', 8), ('down', 6), ('forward', 6), ('forward', 9), ('forward', 3), ('forward', 3), ('down', 2), ('down', 4), ('forward', 3), ('up', 5), ('up', 3), ('down', 5), ('down', 1), ('forward', 5), ('forward', 7), ('forward', 1), ('forward', 4), ('forward', 5), ('forward', 1), ('down', 7), ('down', 8), ('up', 9), ('down', 8), ('down', 5), ('up', 3), ('down', 5), ('down', 5), ('forward', 8), ('down', 2), ('forward', 7), ('forward', 7), ('down', 1), ('forward', 2), ('forward', 7), ('forward', 5), ('down', 6), ('forward', 5), ('down', 5), ('forward', 4), ('down', 8), ('forward', 7), ('up', 5), ('forward', 5), ('down', 7), ('down', 7), ('up', 4), ('forward', 8), ('up', 1), ('forward', 3), ('forward', 7), ('down', 2), ('forward', 1), ('down', 4), ('up', 8), ('forward', 3), ('forward', 1), ('forward', 6), ('forward', 3), ('up', 4), ('forward', 3), ('down', 3), ('forward', 7), ('forward', 9), ('forward', 8), ('down', 6), ('down', 8), ('up', 6), ('down', 9), ('forward', 7), ('forward', 1), ('up', 4), ('forward', 5), ('forward', 8), ('down', 7), ('down', 9), ('up', 6), ('up', 6), ('forward', 9), ('down', 1), ('forward', 8), ('down', 9), ('down', 5), ('forward', 6), ('forward', 1), ('down', 4), ('forward', 8), ('down', 9), ('down', 4), ('forward', 5), ('forward', 7), ('forward', 3), ('down', 2), ('forward', 6), ('forward', 3), ('forward', 8), ('down', 1), ('down', 5), ('up', 6), ('down', 2), ('down', 1), ('up', 3), ('down', 7), ('up', 1), ('forward', 8), ('down', 6), ('down', 6), ('forward', 8), ('up', 3), ('forward', 8), ('up', 3), ('forward', 3), ('forward', 7), ('forward', 1), ('down', 1), ('up', 5), ('forward', 5), ('forward', 9), ('forward', 5), ('forward', 1), ('forward', 4), ('down', 8), ('forward', 2), ('up', 3), ('forward', 3), ('down', 9), ('forward', 2), ('forward', 6), ('forward', 3), ('up', 8), ('up', 1), ('down', 6), ('forward', 3), ('down', 4), ('down', 5), ('forward', 6), ('forward', 9), ('down', 4), ('down', 9), ('down', 7), ('down', 1), ('up', 3), ('up', 6), ('forward', 4), ('forward', 5), ('down', 1), ('forward', 3), ('up', 5), ('forward', 7), ('down', 9), ('forward', 5), ('down', 5), ('down', 1), ('down', 1), ('down', 1), ('up', 8), ('down', 4), ('down', 9), ('forward', 5), ('down', 5), ('up', 5), ('up', 3), ('forward', 1), ('forward', 7), ('down', 2), ('forward', 6), ('forward', 5), ('up', 4), ('up', 4), ('forward', 1), ('down', 7), ('down', 8), ('up', 3), ('down', 3), ('up', 4), ('forward', 2), ('up', 4), ('up', 4), ('forward', 8), ('forward', 1), ('forward', 2), ('forward', 7), ('down', 6), ('forward', 8), ('forward', 9), ('forward', 6), ('forward', 9), ('down', 3), ('up', 3), ('forward', 5), ('down', 1), ('forward', 1), ('forward', 4), ('forward', 2), ('down', 6), ('up', 7), ('forward', 9), ('down', 2), ('up', 5), ('forward', 6), ('down', 9), ('down', 6), ('down', 8), ('forward', 2), ('down', 7), ('forward', 6), ('down', 8), ('forward', 3), ('forward', 7), ('forward', 6), ('down', 7), ('down', 6), ('forward', 5), ('up', 8), ('forward', 6), ('down', 1), ('up', 9), ('forward', 6), ('down', 6), ('down', 5), ('down', 6), ('up', 2), ('down', 3), ('down', 7), ('down', 3), ('forward', 4), ('up', 9), ('up', 2), ('forward', 1), ('forward', 7), ('forward', 7), ('forward', 9), ('forward', 8), ('forward', 7), ('down', 3), ('forward', 4), ('forward', 8), ('down', 9), ('forward', 2), ('forward', 2), ('up', 9), ('up', 7), ('forward', 2), ('down', 8), ('down', 3), ('down', 1), ('forward', 1), ('forward', 3), ('down', 2), ('forward', 7), ('up', 4), ('down', 7), ('down', 1), ('forward', 8), ('forward', 2), ('up', 1), ('down', 5), ('forward', 8), ('up', 5), ('up', 7), ('forward', 4), ('forward', 7), ('up', 4), ('up', 3), ('forward', 5), ('forward', 9), ('forward', 1), ('forward', 3), ('down', 9), ('up', 2), ('forward', 8), ('down', 3), ('forward', 3), ('forward', 2), ('down', 8), ('down', 2), ('down', 3), ('forward', 1), ('up', 7), ('down', 1), ('forward', 3), ('forward', 8), ('down', 3), ('down', 9), ('up', 1), ('down', 9), ('up', 7), ('up', 7), ('forward', 7), ('forward', 7), ('up', 8), ('down', 2), ('down', 7), ('down', 1), ('forward', 5), ('forward', 5), ('forward', 7), ('down', 8), ('forward', 5), ('down', 9), ('down', 8), ('forward', 3), ('up', 9), ('forward', 3), ('up', 6), ('forward', 7), ('up', 7), ('forward', 3), ('forward', 2), ('down', 1), ('down', 4), ('forward', 1), ('forward', 8), ('up', 5), ('down', 5), ('up', 1), ('down', 5), ('up', 1), ('up', 6), ('forward', 5), ('forward', 5), ('down', 3), ('down', 3), ('forward', 2), ('up', 3), ('up', 2), ('down', 6), ('down', 5), ('down', 1), ('down', 1), ('up', 6), ('forward', 2), ('forward', 2), ('up', 4), ('up', 6), ('up', 6), ('down', 8), ('up', 2), ('forward', 4), ('down', 3), ('forward', 3), ('up', 4), ('down', 5), ('forward', 6), ('forward', 7), ('up', 6), ('down', 3), ('down', 7), ('up', 4), ('down', 2), ('up', 2), ('forward', 1), ('down', 8), ('down', 1), ('down', 1), ('up', 9), ('down', 1), ('down', 1), ('up', 1), ('forward', 8), ('forward', 4), ('down', 4), ('forward', 1), ('down', 4), ('up', 7), ('forward', 7), ('forward', 3), ('down', 4), ('forward', 9), ('forward', 1), ('down', 3), ('down', 2), ('forward', 7), ('up', 1), ('forward', 3), ('up', 3), ('down', 3), ('down', 7), ('up', 3), ('up', 4), ('forward', 7), ('down', 2), ('up', 2), ('down', 9), ('up', 1), ('forward', 3), ('up', 8), ('up', 8), ('down', 8), ('down', 1), ('up', 8), ('up', 4), ('down', 6), ('forward', 8)]\n"
     ]
    }
   ],
   "source": [
    "with open(f\"Advent2021/inputs/input2.txt\") as f:\n",
    "    moves = f.readlines()\n",
    "# print(lines)\n",
    "move_list = []\n",
    "# print(lines[0])\n",
    "# lines[0].split( )\n",
    "for move in moves:\n",
    "    tmp = move.split()\n",
    "    tmp = (tmp[0], int(tmp[1]))\n",
    "    move_list.append(tmp)\n",
    "dirs = set([p[0] for p in move_list])\n",
    "print(move_list)"
   ]
  },
  {
   "cell_type": "code",
   "execution_count": 16,
   "metadata": {},
   "outputs": [
    {
     "name": "stdout",
     "output_type": "stream",
     "text": [
      "[1980, 866]\n",
      "1714680\n"
     ]
    }
   ],
   "source": [
    "def get_end_position(initial_position, move_list):\n",
    "#     print(intial_position)\n",
    "    position = initial_position\n",
    "    for move in move_list:\n",
    "        if move[0] == 'forward':\n",
    "            position[0] += move[1]\n",
    "        elif move[0] == 'down':\n",
    "            position[1] += move[1]\n",
    "        else:\n",
    "            position[1] = max(0, position[1] - move[1])\n",
    "    return position\n",
    "\n",
    "location = get_end_position([0,0], move_list)\n",
    "print(location)\n",
    "print(location[1] * location[0])"
   ]
  },
  {
   "cell_type": "code",
   "execution_count": 29,
   "metadata": {},
   "outputs": [
    {
     "name": "stdout",
     "output_type": "stream",
     "text": [
      "('forward', 4)\n",
      "aim: 0\n",
      "position: [4, 0]\n",
      "('forward', 6)\n",
      "aim: 0\n",
      "position: [10, 0]\n",
      "('down', 8)\n",
      "aim: 8\n",
      "position: [10, 0]\n",
      "('forward', 3)\n",
      "aim: 8\n",
      "position: [13, 24]\n",
      "('forward', 9)\n",
      "aim: 8\n",
      "position: [22, 120]\n",
      "('down', 7)\n",
      "aim: 15\n",
      "position: [22, 120]\n",
      "('down', 7)\n",
      "aim: 22\n",
      "position: [22, 120]\n",
      "('down', 1)\n",
      "aim: 23\n",
      "position: [22, 120]\n",
      "('forward', 1)\n",
      "aim: 23\n",
      "position: [23, 263]\n",
      "('forward', 5)\n",
      "aim: 23\n",
      "position: [28, 641]\n",
      "('up', 4)\n",
      "aim: 19\n",
      "position: [28, 641]\n",
      "('forward', 3)\n",
      "aim: 19\n",
      "position: [31, 1339]\n",
      "('forward', 9)\n",
      "aim: 19\n",
      "position: [40, 2849]\n",
      "('forward', 5)\n",
      "aim: 19\n",
      "position: [45, 5793]\n",
      "('down', 8)\n",
      "aim: 27\n",
      "position: [45, 5793]\n",
      "('forward', 6)\n",
      "aim: 27\n",
      "position: [51, 11748]\n",
      "('forward', 8)\n",
      "aim: 27\n",
      "position: [59, 23712]\n",
      "('up', 4)\n",
      "aim: 23\n",
      "position: [59, 23712]\n",
      "('forward', 1)\n",
      "aim: 23\n",
      "position: [60, 47447]\n",
      "('forward', 4)\n",
      "aim: 23\n",
      "position: [64, 94986]\n",
      "[64, 94986]\n",
      "6079104\n"
     ]
    }
   ],
   "source": [
    "def get_end_position_advanced(initial_position, move_list):\n",
    "    position = initial_position\n",
    "    aim = 0\n",
    "    for move in move_list[:20]:\n",
    "        if move[0] == 'forward':\n",
    "            position[0] += move[1]\n",
    "            position[1] += max(0, position[1] + (move[1] * aim)) \n",
    "        elif move[0] == 'down':\n",
    "            aim += move[1]\n",
    "        else:\n",
    "            aim -= move[1]\n",
    "        print(move)\n",
    "        print(f\"aim: {aim}\")\n",
    "        print(f\"position: {position}\")\n",
    "    return position\n",
    "location = get_end_position_advanced([0,0], move_list)\n",
    "print(location)\n",
    "print(location[1] * location[0])"
   ]
  }
 ],
 "metadata": {
  "kernelspec": {
   "display_name": "Python 3",
   "language": "python",
   "name": "python3"
  },
  "language_info": {
   "codemirror_mode": {
    "name": "ipython",
    "version": 3
   },
   "file_extension": ".py",
   "mimetype": "text/x-python",
   "name": "python",
   "nbconvert_exporter": "python",
   "pygments_lexer": "ipython3",
   "version": "3.7.5"
  }
 },
 "nbformat": 4,
 "nbformat_minor": 4
}
